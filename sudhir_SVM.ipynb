{
 "cells": [
  {
   "cell_type": "code",
   "execution_count": 1,
   "metadata": {
    "collapsed": true
   },
   "outputs": [],
   "source": [
    "import pandas as pd"
   ]
  },
  {
   "cell_type": "code",
   "execution_count": 2,
   "metadata": {
    "collapsed": true
   },
   "outputs": [],
   "source": [
    "import numpy as np"
   ]
  },
  {
   "cell_type": "code",
   "execution_count": 3,
   "metadata": {
    "collapsed": true
   },
   "outputs": [],
   "source": [
    "from sklearn import svm"
   ]
  },
  {
   "cell_type": "code",
   "execution_count": 4,
   "metadata": {
    "collapsed": false
   },
   "outputs": [],
   "source": [
    "from sklearn.model_selection import train_test_split"
   ]
  },
  {
   "cell_type": "code",
   "execution_count": 5,
   "metadata": {
    "collapsed": true
   },
   "outputs": [],
   "source": [
    "%matplotlib inline"
   ]
  },
  {
   "cell_type": "code",
   "execution_count": 6,
   "metadata": {
    "collapsed": true
   },
   "outputs": [],
   "source": [
    "import matplotlib.pyplot as plt"
   ]
  },
  {
   "cell_type": "code",
   "execution_count": 7,
   "metadata": {
    "collapsed": true
   },
   "outputs": [],
   "source": [
    "def encode_pop(row_val):\n",
    "    if(row_val==\"CEU\"):\n",
    "        return 0\n",
    "    elif(row_val==\"YRI\"):\n",
    "        return 1\n",
    "    elif(row_val==\"ASW\"):\n",
    "        return 2"
   ]
  },
  {
   "cell_type": "code",
   "execution_count": 8,
   "metadata": {
    "collapsed": true
   },
   "outputs": [],
   "source": [
    "raw_file = pd.read_csv('C://Users//ghai7c//Desktop//random_forests//no_NAs_A.raw', sep=\" \",nrows=268)"
   ]
  },
  {
   "cell_type": "code",
   "execution_count": 9,
   "metadata": {
    "collapsed": false
   },
   "outputs": [
    {
     "data": {
      "text/html": [
       "<div>\n",
       "<table border=\"1\" class=\"dataframe\">\n",
       "  <thead>\n",
       "    <tr style=\"text-align: right;\">\n",
       "      <th></th>\n",
       "      <th>FID</th>\n",
       "      <th>IID</th>\n",
       "      <th>PAT</th>\n",
       "      <th>MAT</th>\n",
       "      <th>SEX</th>\n",
       "      <th>PHENOTYPE</th>\n",
       "      <th>rs12565286_C</th>\n",
       "      <th>rs12082473_A</th>\n",
       "      <th>rs3094315_G</th>\n",
       "      <th>rs2286139_T</th>\n",
       "      <th>...</th>\n",
       "      <th>rs5770820_A</th>\n",
       "      <th>rs9628187_T</th>\n",
       "      <th>rs6010063_A</th>\n",
       "      <th>rs715586_T</th>\n",
       "      <th>rs8137951_A</th>\n",
       "      <th>rs3810648_G</th>\n",
       "      <th>rs3865766_C</th>\n",
       "      <th>rs2238837_C</th>\n",
       "      <th>rs34726907_T</th>\n",
       "      <th>rs28729663_A</th>\n",
       "    </tr>\n",
       "  </thead>\n",
       "  <tbody>\n",
       "    <tr>\n",
       "      <th>0</th>\n",
       "      <td>NA06984</td>\n",
       "      <td>NA06984</td>\n",
       "      <td>0</td>\n",
       "      <td>0</td>\n",
       "      <td>0</td>\n",
       "      <td>-9</td>\n",
       "      <td>0</td>\n",
       "      <td>0</td>\n",
       "      <td>0</td>\n",
       "      <td>2</td>\n",
       "      <td>...</td>\n",
       "      <td>0</td>\n",
       "      <td>0</td>\n",
       "      <td>2</td>\n",
       "      <td>0</td>\n",
       "      <td>0</td>\n",
       "      <td>0</td>\n",
       "      <td>2</td>\n",
       "      <td>0</td>\n",
       "      <td>0</td>\n",
       "      <td>0</td>\n",
       "    </tr>\n",
       "    <tr>\n",
       "      <th>1</th>\n",
       "      <td>NA06985</td>\n",
       "      <td>NA06985</td>\n",
       "      <td>0</td>\n",
       "      <td>0</td>\n",
       "      <td>0</td>\n",
       "      <td>-9</td>\n",
       "      <td>0</td>\n",
       "      <td>0</td>\n",
       "      <td>0</td>\n",
       "      <td>2</td>\n",
       "      <td>...</td>\n",
       "      <td>1</td>\n",
       "      <td>0</td>\n",
       "      <td>0</td>\n",
       "      <td>0</td>\n",
       "      <td>2</td>\n",
       "      <td>1</td>\n",
       "      <td>0</td>\n",
       "      <td>1</td>\n",
       "      <td>1</td>\n",
       "      <td>1</td>\n",
       "    </tr>\n",
       "    <tr>\n",
       "      <th>2</th>\n",
       "      <td>NA06986</td>\n",
       "      <td>NA06986</td>\n",
       "      <td>0</td>\n",
       "      <td>0</td>\n",
       "      <td>0</td>\n",
       "      <td>-9</td>\n",
       "      <td>0</td>\n",
       "      <td>0</td>\n",
       "      <td>0</td>\n",
       "      <td>2</td>\n",
       "      <td>...</td>\n",
       "      <td>0</td>\n",
       "      <td>1</td>\n",
       "      <td>1</td>\n",
       "      <td>0</td>\n",
       "      <td>1</td>\n",
       "      <td>0</td>\n",
       "      <td>2</td>\n",
       "      <td>0</td>\n",
       "      <td>0</td>\n",
       "      <td>0</td>\n",
       "    </tr>\n",
       "  </tbody>\n",
       "</table>\n",
       "<p>3 rows × 857130 columns</p>\n",
       "</div>"
      ],
      "text/plain": [
       "       FID      IID  PAT  MAT  SEX  PHENOTYPE  rs12565286_C  rs12082473_A  \\\n",
       "0  NA06984  NA06984    0    0    0         -9             0             0   \n",
       "1  NA06985  NA06985    0    0    0         -9             0             0   \n",
       "2  NA06986  NA06986    0    0    0         -9             0             0   \n",
       "\n",
       "   rs3094315_G  rs2286139_T      ...       rs5770820_A  rs9628187_T  \\\n",
       "0            0            2      ...                 0            0   \n",
       "1            0            2      ...                 1            0   \n",
       "2            0            2      ...                 0            1   \n",
       "\n",
       "   rs6010063_A  rs715586_T  rs8137951_A  rs3810648_G  rs3865766_C  \\\n",
       "0            2           0            0            0            2   \n",
       "1            0           0            2            1            0   \n",
       "2            1           0            1            0            2   \n",
       "\n",
       "   rs2238837_C  rs34726907_T  rs28729663_A  \n",
       "0            0             0             0  \n",
       "1            1             1             1  \n",
       "2            0             0             0  \n",
       "\n",
       "[3 rows x 857130 columns]"
      ]
     },
     "execution_count": 9,
     "metadata": {},
     "output_type": "execute_result"
    }
   ],
   "source": [
    "raw_file.head(3)"
   ]
  },
  {
   "cell_type": "code",
   "execution_count": 10,
   "metadata": {
    "collapsed": true
   },
   "outputs": [],
   "source": [
    "raw_file = raw_file.drop(raw_file.columns[[0,1,2,3,4,5]],axis=1)"
   ]
  },
  {
   "cell_type": "code",
   "execution_count": 11,
   "metadata": {
    "collapsed": false
   },
   "outputs": [
    {
     "data": {
      "text/html": [
       "<div>\n",
       "<table border=\"1\" class=\"dataframe\">\n",
       "  <thead>\n",
       "    <tr style=\"text-align: right;\">\n",
       "      <th></th>\n",
       "      <th>rs12565286_C</th>\n",
       "      <th>rs12082473_A</th>\n",
       "      <th>rs3094315_G</th>\n",
       "      <th>rs2286139_T</th>\n",
       "      <th>rs11240776_G</th>\n",
       "      <th>rs2980319_A</th>\n",
       "      <th>rs2980300_C</th>\n",
       "      <th>rs2905036_C</th>\n",
       "      <th>rs11240777_G</th>\n",
       "      <th>rs4245756_T</th>\n",
       "      <th>...</th>\n",
       "      <th>rs5770820_A</th>\n",
       "      <th>rs9628187_T</th>\n",
       "      <th>rs6010063_A</th>\n",
       "      <th>rs715586_T</th>\n",
       "      <th>rs8137951_A</th>\n",
       "      <th>rs3810648_G</th>\n",
       "      <th>rs3865766_C</th>\n",
       "      <th>rs2238837_C</th>\n",
       "      <th>rs34726907_T</th>\n",
       "      <th>rs28729663_A</th>\n",
       "    </tr>\n",
       "  </thead>\n",
       "  <tbody>\n",
       "    <tr>\n",
       "      <th>0</th>\n",
       "      <td>0</td>\n",
       "      <td>0</td>\n",
       "      <td>0</td>\n",
       "      <td>2</td>\n",
       "      <td>0</td>\n",
       "      <td>0</td>\n",
       "      <td>2</td>\n",
       "      <td>0</td>\n",
       "      <td>1</td>\n",
       "      <td>0</td>\n",
       "      <td>...</td>\n",
       "      <td>0</td>\n",
       "      <td>0</td>\n",
       "      <td>2</td>\n",
       "      <td>0</td>\n",
       "      <td>0</td>\n",
       "      <td>0</td>\n",
       "      <td>2</td>\n",
       "      <td>0</td>\n",
       "      <td>0</td>\n",
       "      <td>0</td>\n",
       "    </tr>\n",
       "    <tr>\n",
       "      <th>1</th>\n",
       "      <td>0</td>\n",
       "      <td>0</td>\n",
       "      <td>0</td>\n",
       "      <td>2</td>\n",
       "      <td>0</td>\n",
       "      <td>0</td>\n",
       "      <td>2</td>\n",
       "      <td>0</td>\n",
       "      <td>2</td>\n",
       "      <td>0</td>\n",
       "      <td>...</td>\n",
       "      <td>1</td>\n",
       "      <td>0</td>\n",
       "      <td>0</td>\n",
       "      <td>0</td>\n",
       "      <td>2</td>\n",
       "      <td>1</td>\n",
       "      <td>0</td>\n",
       "      <td>1</td>\n",
       "      <td>1</td>\n",
       "      <td>1</td>\n",
       "    </tr>\n",
       "    <tr>\n",
       "      <th>2</th>\n",
       "      <td>0</td>\n",
       "      <td>0</td>\n",
       "      <td>0</td>\n",
       "      <td>2</td>\n",
       "      <td>0</td>\n",
       "      <td>0</td>\n",
       "      <td>2</td>\n",
       "      <td>0</td>\n",
       "      <td>2</td>\n",
       "      <td>0</td>\n",
       "      <td>...</td>\n",
       "      <td>0</td>\n",
       "      <td>1</td>\n",
       "      <td>1</td>\n",
       "      <td>0</td>\n",
       "      <td>1</td>\n",
       "      <td>0</td>\n",
       "      <td>2</td>\n",
       "      <td>0</td>\n",
       "      <td>0</td>\n",
       "      <td>0</td>\n",
       "    </tr>\n",
       "  </tbody>\n",
       "</table>\n",
       "<p>3 rows × 857124 columns</p>\n",
       "</div>"
      ],
      "text/plain": [
       "   rs12565286_C  rs12082473_A  rs3094315_G  rs2286139_T  rs11240776_G  \\\n",
       "0             0             0            0            2             0   \n",
       "1             0             0            0            2             0   \n",
       "2             0             0            0            2             0   \n",
       "\n",
       "   rs2980319_A  rs2980300_C  rs2905036_C  rs11240777_G  rs4245756_T  \\\n",
       "0            0            2            0             1            0   \n",
       "1            0            2            0             2            0   \n",
       "2            0            2            0             2            0   \n",
       "\n",
       "       ...       rs5770820_A  rs9628187_T  rs6010063_A  rs715586_T  \\\n",
       "0      ...                 0            0            2           0   \n",
       "1      ...                 1            0            0           0   \n",
       "2      ...                 0            1            1           0   \n",
       "\n",
       "   rs8137951_A  rs3810648_G  rs3865766_C  rs2238837_C  rs34726907_T  \\\n",
       "0            0            0            2            0             0   \n",
       "1            2            1            0            1             1   \n",
       "2            1            0            2            0             0   \n",
       "\n",
       "   rs28729663_A  \n",
       "0             0  \n",
       "1             1  \n",
       "2             0  \n",
       "\n",
       "[3 rows x 857124 columns]"
      ]
     },
     "execution_count": 11,
     "metadata": {},
     "output_type": "execute_result"
    }
   ],
   "source": [
    "raw_file.head(3)"
   ]
  },
  {
   "cell_type": "code",
   "execution_count": 12,
   "metadata": {
    "collapsed": true
   },
   "outputs": [],
   "source": [
    "snps = list(raw_file.columns.values)"
   ]
  },
  {
   "cell_type": "code",
   "execution_count": 13,
   "metadata": {
    "collapsed": true
   },
   "outputs": [],
   "source": [
    "pops = pd.read_csv('C://Users//ghai7c//Desktop//random_forests//pop_names', sep=\" \",nrows=268)"
   ]
  },
  {
   "cell_type": "code",
   "execution_count": 14,
   "metadata": {
    "collapsed": false
   },
   "outputs": [],
   "source": [
    "pops = pops.drop('IID',axis=1)"
   ]
  },
  {
   "cell_type": "code",
   "execution_count": 15,
   "metadata": {
    "collapsed": false
   },
   "outputs": [],
   "source": [
    "pops['pop1'] = pops['pop'].apply(encode_pop)"
   ]
  },
  {
   "cell_type": "code",
   "execution_count": 16,
   "metadata": {
    "collapsed": true
   },
   "outputs": [],
   "source": [
    "X = raw_file.as_matrix(columns=None)"
   ]
  },
  {
   "cell_type": "code",
   "execution_count": 17,
   "metadata": {
    "collapsed": true
   },
   "outputs": [],
   "source": [
    "y = np.array(pops['pop1'])"
   ]
  },
  {
   "cell_type": "code",
   "execution_count": 18,
   "metadata": {
    "collapsed": true
   },
   "outputs": [],
   "source": [
    "X_train,X_test,Y_train,Y_test = train_test_split(X,y,test_size=0.2)"
   ]
  },
  {
   "cell_type": "code",
   "execution_count": 19,
   "metadata": {
    "collapsed": false
   },
   "outputs": [
    {
     "name": "stdout",
     "output_type": "stream",
     "text": [
      "Number of Samples used for Training: 214\n"
     ]
    }
   ],
   "source": [
    "print(\"Number of Samples used for Training:\",len(X_train))"
   ]
  },
  {
   "cell_type": "code",
   "execution_count": 20,
   "metadata": {
    "collapsed": true
   },
   "outputs": [],
   "source": [
    "kernels = ['linear','poly','rbf','sigmoid']\n",
    "kernel_scores,kernel_nsvms = [],[]"
   ]
  },
  {
   "cell_type": "code",
   "execution_count": 21,
   "metadata": {
    "collapsed": true
   },
   "outputs": [],
   "source": [
    "#validating kernels\n",
    "for kernel in kernels:\n",
    "    model = svm.SVC(kernel=kernel)\n",
    "    model.fit(X_train,Y_train)\n",
    "    kernel_scores.append(model.score(X_test,Y_test))\n",
    "    kernel_nsvms.append(len(model.support_vectors_))"
   ]
  },
  {
   "cell_type": "code",
   "execution_count": 22,
   "metadata": {
    "collapsed": false
   },
   "outputs": [
    {
     "data": {
      "text/plain": [
       "[0.98148148148148151,\n",
       " 0.83333333333333337,\n",
       " 0.85185185185185186,\n",
       " 0.83333333333333337]"
      ]
     },
     "execution_count": 22,
     "metadata": {},
     "output_type": "execute_result"
    }
   ],
   "source": [
    "kernel_scores"
   ]
  },
  {
   "cell_type": "code",
   "execution_count": 23,
   "metadata": {
    "collapsed": false
   },
   "outputs": [
    {
     "data": {
      "text/plain": [
       "[214, 214, 214, 214]"
      ]
     },
     "execution_count": 23,
     "metadata": {},
     "output_type": "execute_result"
    }
   ],
   "source": [
    "kernel_nsvms"
   ]
  },
  {
   "cell_type": "code",
   "execution_count": 24,
   "metadata": {
    "collapsed": false
   },
   "outputs": [
    {
     "data": {
      "image/png": "[encoded data removed]",
      "text/plain": [
       "<matplotlib.figure.Figure at 0x1da32b70>"
      ]
     },
     "metadata": {},
     "output_type": "display_data"
    }
   ],
   "source": [
    "y_pos = np.arange(len(kernels))\n",
    "plt.bar(y_pos,kernel_scores,align='center',alpha=0.5)\n",
    "plt.xticks(y_pos,kernels)\n",
    "plt.ylabel('Accuracy')\n",
    "plt.show()"
   ]
  },
  {
   "cell_type": "code",
   "execution_count": 25,
   "metadata": {
    "collapsed": false
   },
   "outputs": [],
   "source": [
    "C_values = [0.000001,0.00001,0.0001,0.001,0.01,0.1,1.0,10,100,1000]\n",
    "C_scores,C_nsvms= [],[]"
   ]
  },
  {
   "cell_type": "code",
   "execution_count": 26,
   "metadata": {
    "collapsed": false
   },
   "outputs": [],
   "source": [
    "for val in C_values:\n",
    "    model = svm.SVC(C=val,kernel=\"linear\")\n",
    "    model.fit(X_train,Y_train)\n",
    "    C_nsvms.append(len(model.support_vectors_))\n",
    "    C_scores.append(model.score(X_test,Y_test))"
   ]
  },
  {
   "cell_type": "code",
   "execution_count": 27,
   "metadata": {
    "collapsed": false
   },
   "outputs": [
    {
     "data": {
      "text/plain": [
       "[0.83333333333333337,\n",
       " 0.98148148148148151,\n",
       " 0.98148148148148151,\n",
       " 0.98148148148148151,\n",
       " 0.98148148148148151,\n",
       " 0.98148148148148151,\n",
       " 0.98148148148148151,\n",
       " 0.98148148148148151,\n",
       " 0.98148148148148151,\n",
       " 0.98148148148148151]"
      ]
     },
     "execution_count": 27,
     "metadata": {},
     "output_type": "execute_result"
    }
   ],
   "source": [
    "C_scores"
   ]
  },
  {
   "cell_type": "code",
   "execution_count": 28,
   "metadata": {
    "collapsed": false
   },
   "outputs": [
    {
     "data": {
      "text/plain": [
       "[214, 214, 214, 214, 214, 214, 214, 214, 214, 214]"
      ]
     },
     "execution_count": 28,
     "metadata": {},
     "output_type": "execute_result"
    }
   ],
   "source": [
    "C_nsvms"
   ]
  },
  {
   "cell_type": "code",
   "execution_count": 29,
   "metadata": {
    "collapsed": false
   },
   "outputs": [
    {
     "data": {
      "image/png": "[encoded data removed]",
      "text/plain": [
       "<matplotlib.figure.Figure at 0xbde0ec048>"
      ]
     },
     "metadata": {},
     "output_type": "display_data"
    }
   ],
   "source": [
    "y_pos = np.arange(len(C_values))\n",
    "plt.bar(y_pos,C_scores,align='center',alpha=0.5)\n",
    "plt.xticks(y_pos,C_values)\n",
    "plt.ylabel('Accuracy')\n",
    "plt.show()"
   ]
  },
  {
   "cell_type": "code",
   "execution_count": 29,
   "metadata": {
    "collapsed": false
   },
   "outputs": [],
   "source": [
    "default_gamma = float(1/len(snps))"
   ]
  },
  {
   "cell_type": "code",
   "execution_count": 31,
   "metadata": {
    "collapsed": true
   },
   "outputs": [],
   "source": [
    "gammas = [default_gamma,10,100]\n",
    "gamma_scores = []"
   ]
  },
  {
   "cell_type": "code",
   "execution_count": 32,
   "metadata": {
    "collapsed": false
   },
   "outputs": [],
   "source": [
    "for gamma in gammas:\n",
    "    model = svm.SVC(C=10,kernel=\"rbf\",gamma=gamma)\n",
    "    model.fit(X_train,Y_train)\n",
    "    gamma_scores.append(model.score(X_test,Y_test))"
   ]
  },
  {
   "cell_type": "code",
   "execution_count": 33,
   "metadata": {
    "collapsed": false
   },
   "outputs": [
    {
     "data": {
      "text/plain": [
       "[0.90740740740740744, 0.42592592592592593, 0.42592592592592593]"
      ]
     },
     "execution_count": 33,
     "metadata": {},
     "output_type": "execute_result"
    }
   ],
   "source": [
    "gamma_scores"
   ]
  },
  {
   "cell_type": "code",
   "execution_count": 34,
   "metadata": {
    "collapsed": false
   },
   "outputs": [
    {
     "data": {
      "image/png": "[encoded data removed]",
      "text/plain": [
       "<matplotlib.figure.Figure at 0x1a40f128>"
      ]
     },
     "metadata": {},
     "output_type": "display_data"
    }
   ],
   "source": [
    "y_pos = np.arange(len(gammas))\n",
    "plt.bar(y_pos,gamma_scores,align='center',alpha=0.5)\n",
    "plt.xticks(y_pos,gammas)\n",
    "plt.ylabel('Accuracy')\n",
    "plt.show()"
   ]
  },
  {
   "cell_type": "code",
   "execution_count": 54,
   "metadata": {
    "collapsed": false
   },
   "outputs": [
    {
     "data": {
      "text/plain": [
       "SVC(C=1e-05, cache_size=200, class_weight=None, coef0=0.0,\n",
       "  decision_function_shape='ovo', degree=3, gamma='auto', kernel='linear',\n",
       "  max_iter=-1, probability=False, random_state=None, shrinking=True,\n",
       "  tol=0.001, verbose=False)"
      ]
     },
     "execution_count": 54,
     "metadata": {},
     "output_type": "execute_result"
    }
   ],
   "source": [
    "final_model = svm.SVC(C=0.00001,kernel=\"linear\",decision_function_shape='ovo')\n",
    "final_model.fit(X_train,Y_train)"
   ]
  },
  {
   "cell_type": "code",
   "execution_count": 55,
   "metadata": {
    "collapsed": false
   },
   "outputs": [
    {
     "data": {
      "text/plain": [
       "array([0, 1, 2], dtype=int64)"
      ]
     },
     "execution_count": 55,
     "metadata": {},
     "output_type": "execute_result"
    }
   ],
   "source": [
    "final_model.classes_"
   ]
  },
  {
   "cell_type": "code",
   "execution_count": 56,
   "metadata": {
    "collapsed": false
   },
   "outputs": [
    {
     "data": {
      "text/plain": [
       "214"
      ]
     },
     "execution_count": 56,
     "metadata": {},
     "output_type": "execute_result"
    }
   ],
   "source": [
    "len(final_model.support_vectors_)"
   ]
  },
  {
   "cell_type": "code",
   "execution_count": 57,
   "metadata": {
    "collapsed": false
   },
   "outputs": [],
   "source": [
    "weights = final_model.coef_"
   ]
  },
  {
   "cell_type": "code",
   "execution_count": 58,
   "metadata": {
    "collapsed": false
   },
   "outputs": [],
   "source": [
    "weights_model0 = np.array(weights[0])\n",
    "weights_model1 = np.array(weights[1])\n",
    "weights_model2 = np.array(weights[2])\n",
    "weights_model0 = np.abs(weights_model0)\n",
    "weights_model1 = np.abs(weights_model1)\n",
    "weights_model2 = np.abs(weights_model2)"
   ]
  },
  {
   "cell_type": "code",
   "execution_count": 78,
   "metadata": {
    "collapsed": true
   },
   "outputs": [],
   "source": [
    "#def getImportance(score1,score2,score3):\n",
    "    #if(score1>0 and score2>0 and score3>0):\n",
    "        #return \"YES\"\n",
    "    #else:\n",
    "        #return \"NO\""
   ]
  },
  {
   "cell_type": "code",
   "execution_count": 79,
   "metadata": {
    "collapsed": true
   },
   "outputs": [],
   "source": [
    "#weights_df = pd.DataFrame()"
   ]
  },
  {
   "cell_type": "code",
   "execution_count": 80,
   "metadata": {
    "collapsed": true
   },
   "outputs": [],
   "source": [
    "#weights_df[\"SNPS\"] = snps\n",
    "#weights_df[\"MODEL_1\"] = weights_model0\n",
    "#weights_df[\"MODEL_2\"] = weights_model1\n",
    "#weights_df[\"MODEL_3\"] = weights_model2"
   ]
  },
  {
   "cell_type": "code",
   "execution_count": 81,
   "metadata": {
    "collapsed": false
   },
   "outputs": [],
   "source": [
    "#weights_df[\"IMPORTANCE\"] = weights_df.apply(lambda row: getImportance(row[\"MODEL_1\"],row[\"MODEL_2\"],row[\"MODEL_3\"]), axis=1)"
   ]
  },
  {
   "cell_type": "code",
   "execution_count": 83,
   "metadata": {
    "collapsed": true
   },
   "outputs": [],
   "source": [
    "#important_snps_df = weights_df[weights_df[\"IMPORTANCE\"]==\"YES\"]"
   ]
  },
  {
   "cell_type": "code",
   "execution_count": 101,
   "metadata": {
    "collapsed": true
   },
   "outputs": [],
   "source": [
    "model1_snps_dict,model2_snps_dict,model3_snps_dict = {},{},{}"
   ]
  },
  {
   "cell_type": "code",
   "execution_count": 102,
   "metadata": {
    "collapsed": false
   },
   "outputs": [],
   "source": [
    "i=0\n",
    "for i in range(len(snps)):\n",
    "    model1_snps_dict[snps[i]] = weights_model0[i]\n",
    "    model2_snps_dict[snps[i]] = weights_model1[i]\n",
    "    model3_snps_dict[snps[i]] = weights_model2[i]"
   ]
  },
  {
   "cell_type": "code",
   "execution_count": 105,
   "metadata": {
    "collapsed": false
   },
   "outputs": [],
   "source": [
    "sorted_model1_snps = sorted(model1_snps_dict, key=lambda x: model1_snps_dict[x], reverse=True)\n",
    "sorted_model2_snps = sorted(model2_snps_dict, key=lambda x: model2_snps_dict[x], reverse=True)\n",
    "sorted_model3_snps = sorted(model3_snps_dict, key=lambda x: model3_snps_dict[x], reverse=True)"
   ]
  },
  {
   "cell_type": "code",
   "execution_count": 119,
   "metadata": {
    "collapsed": true
   },
   "outputs": [],
   "source": [
    "def get_top_snps(threshold):\n",
    "    top_model1 = set(sorted_model1_snps[:threshold])\n",
    "    top_model2 = set(sorted_model2_snps[:threshold])\n",
    "    top_model3 = set(sorted_model3_snps[:threshold])\n",
    "    top_snps = set.intersection(top_model1,top_model2,top_model3)\n",
    "    return top_snps"
   ]
  },
  {
   "cell_type": "code",
   "execution_count": 126,
   "metadata": {
    "collapsed": false
   },
   "outputs": [
    {
     "data": {
      "text/plain": [
       "54"
      ]
     },
     "execution_count": 126,
     "metadata": {},
     "output_type": "execute_result"
    }
   ],
   "source": [
    "top_snps = get_top_snps(5000)\n",
    "len(top_snps)"
   ]
  },
  {
   "cell_type": "code",
   "execution_count": 127,
   "metadata": {
    "collapsed": false
   },
   "outputs": [],
   "source": [
    "fw = open(\"svm_snps_top5k.txt\",\"w\")\n",
    "for snp in top_snps:\n",
    "    fw.write(snp)\n",
    "    fw.write('\\n')\n",
    "fw.close()"
   ]
  },
  {
   "cell_type": "code",
   "execution_count": 128,
   "metadata": {
    "collapsed": false
   },
   "outputs": [
    {
     "data": {
      "text/plain": [
       "214"
      ]
     },
     "execution_count": 128,
     "metadata": {},
     "output_type": "execute_result"
    }
   ],
   "source": [
    "top_snps = get_top_snps(10000)\n",
    "len(top_snps)"
   ]
  },
  {
   "cell_type": "code",
   "execution_count": 129,
   "metadata": {
    "collapsed": true
   },
   "outputs": [],
   "source": [
    "fw = open(\"svm_snps_top10k.txt\",\"w\")\n",
    "for snp in top_snps:\n",
    "    fw.write(snp)\n",
    "    fw.write('\\n')\n",
    "fw.close()"
   ]
  },
  {
   "cell_type": "code",
   "execution_count": null,
   "metadata": {
    "collapsed": true
   },
   "outputs": [],
   "source": []
  }
 ],
 "metadata": {
  "anaconda-cloud": {},
  "kernelspec": {
   "display_name": "Python [Root]",
   "language": "python",
   "name": "Python [Root]"
  },
  "language_info": {
   "codemirror_mode": {
    "name": "ipython",
    "version": 3
   },
   "file_extension": ".py",
   "mimetype": "text/x-python",
   "name": "python",
   "nbconvert_exporter": "python",
   "pygments_lexer": "ipython3",
   "version": "3.5.2"
  }
 },
 "nbformat": 4,
 "nbformat_minor": 0
}
