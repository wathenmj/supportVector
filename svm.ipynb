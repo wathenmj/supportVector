{
 "cells": [
  {
   "cell_type": "code",
   "execution_count": 1,
   "metadata": {
    "collapsed": true
   },
   "outputs": [],
   "source": [
    "%matplotlib inline\n",
    "import itertools\n",
    "import pandas as pd\n",
    "import numpy as np\n",
    "import sklearn.ensemble\n",
    "from sklearn import metrics\n",
    "#importing RandomForestClassifier\n",
    "from sklearn.ensemble import RandomForestClassifier\n",
    "from sklearn.model_selection import train_test_split\n",
    "from sklearn.metrics import confusion_matrix\n",
    "from sklearn.feature_selection import chi2 \n",
    "from sklearn.feature_selection import SelectFromModel \n",
    "from sklearn.feature_selection import SelectKBest\n",
    "from sklearn import svm\n",
    "#get_ipython().magic('matplotlib inline')\n",
    "import matplotlib.pyplot as plt"
   ]
  },
  {
   "cell_type": "code",
   "execution_count": 2,
   "metadata": {
    "collapsed": false
   },
   "outputs": [
    {
     "data": {
      "text/html": [
       "<div>\n",
       "<table border=\"1\" class=\"dataframe\">\n",
       "  <thead>\n",
       "    <tr style=\"text-align: right;\">\n",
       "      <th></th>\n",
       "      <th>FID</th>\n",
       "      <th>IID</th>\n",
       "      <th>PAT</th>\n",
       "      <th>MAT</th>\n",
       "      <th>SEX</th>\n",
       "      <th>PHENOTYPE</th>\n",
       "      <th>rs12565286_C</th>\n",
       "      <th>rs12082473_A</th>\n",
       "      <th>rs3094315_G</th>\n",
       "      <th>rs2286139_T</th>\n",
       "      <th>...</th>\n",
       "      <th>rs5770820_A</th>\n",
       "      <th>rs9628187_T</th>\n",
       "      <th>rs6010063_A</th>\n",
       "      <th>rs715586_T</th>\n",
       "      <th>rs8137951_A</th>\n",
       "      <th>rs3810648_G</th>\n",
       "      <th>rs3865766_C</th>\n",
       "      <th>rs2238837_C</th>\n",
       "      <th>rs34726907_T</th>\n",
       "      <th>rs28729663_A</th>\n",
       "    </tr>\n",
       "  </thead>\n",
       "  <tbody>\n",
       "    <tr>\n",
       "      <th>0</th>\n",
       "      <td>NA06984</td>\n",
       "      <td>NA06984</td>\n",
       "      <td>0</td>\n",
       "      <td>0</td>\n",
       "      <td>0</td>\n",
       "      <td>-9</td>\n",
       "      <td>0</td>\n",
       "      <td>0</td>\n",
       "      <td>0</td>\n",
       "      <td>2</td>\n",
       "      <td>...</td>\n",
       "      <td>0</td>\n",
       "      <td>0</td>\n",
       "      <td>2</td>\n",
       "      <td>0</td>\n",
       "      <td>0</td>\n",
       "      <td>0</td>\n",
       "      <td>2</td>\n",
       "      <td>0</td>\n",
       "      <td>0</td>\n",
       "      <td>0</td>\n",
       "    </tr>\n",
       "    <tr>\n",
       "      <th>1</th>\n",
       "      <td>NA06985</td>\n",
       "      <td>NA06985</td>\n",
       "      <td>0</td>\n",
       "      <td>0</td>\n",
       "      <td>0</td>\n",
       "      <td>-9</td>\n",
       "      <td>0</td>\n",
       "      <td>0</td>\n",
       "      <td>0</td>\n",
       "      <td>2</td>\n",
       "      <td>...</td>\n",
       "      <td>1</td>\n",
       "      <td>0</td>\n",
       "      <td>0</td>\n",
       "      <td>0</td>\n",
       "      <td>2</td>\n",
       "      <td>1</td>\n",
       "      <td>0</td>\n",
       "      <td>1</td>\n",
       "      <td>1</td>\n",
       "      <td>1</td>\n",
       "    </tr>\n",
       "    <tr>\n",
       "      <th>2</th>\n",
       "      <td>NA06986</td>\n",
       "      <td>NA06986</td>\n",
       "      <td>0</td>\n",
       "      <td>0</td>\n",
       "      <td>0</td>\n",
       "      <td>-9</td>\n",
       "      <td>0</td>\n",
       "      <td>0</td>\n",
       "      <td>0</td>\n",
       "      <td>2</td>\n",
       "      <td>...</td>\n",
       "      <td>0</td>\n",
       "      <td>1</td>\n",
       "      <td>1</td>\n",
       "      <td>0</td>\n",
       "      <td>1</td>\n",
       "      <td>0</td>\n",
       "      <td>2</td>\n",
       "      <td>0</td>\n",
       "      <td>0</td>\n",
       "      <td>0</td>\n",
       "    </tr>\n",
       "  </tbody>\n",
       "</table>\n",
       "<p>3 rows × 857130 columns</p>\n",
       "</div>"
      ],
      "text/plain": [
       "       FID      IID  PAT  MAT  SEX  PHENOTYPE  rs12565286_C  rs12082473_A  \\\n",
       "0  NA06984  NA06984    0    0    0         -9             0             0   \n",
       "1  NA06985  NA06985    0    0    0         -9             0             0   \n",
       "2  NA06986  NA06986    0    0    0         -9             0             0   \n",
       "\n",
       "   rs3094315_G  rs2286139_T      ...       rs5770820_A  rs9628187_T  \\\n",
       "0            0            2      ...                 0            0   \n",
       "1            0            2      ...                 1            0   \n",
       "2            0            2      ...                 0            1   \n",
       "\n",
       "   rs6010063_A  rs715586_T  rs8137951_A  rs3810648_G  rs3865766_C  \\\n",
       "0            2           0            0            0            2   \n",
       "1            0           0            2            1            0   \n",
       "2            1           0            1            0            2   \n",
       "\n",
       "   rs2238837_C  rs34726907_T  rs28729663_A  \n",
       "0            0             0             0  \n",
       "1            1             1             1  \n",
       "2            0             0             0  \n",
       "\n",
       "[3 rows x 857130 columns]"
      ]
     },
     "execution_count": 2,
     "metadata": {},
     "output_type": "execute_result"
    }
   ],
   "source": [
    "raw_file = pd.read_csv('C://Users//bhuiy//Desktop//no_NAs_A.raw', sep=\" \",nrows=268)\n",
    "raw_file.head(3)"
   ]
  },
  {
   "cell_type": "code",
   "execution_count": 4,
   "metadata": {
    "collapsed": false
   },
   "outputs": [
    {
     "data": {
      "text/html": [
       "<div>\n",
       "<table border=\"1\" class=\"dataframe\">\n",
       "  <thead>\n",
       "    <tr style=\"text-align: right;\">\n",
       "      <th></th>\n",
       "      <th>FID</th>\n",
       "      <th>IID</th>\n",
       "      <th>PAT</th>\n",
       "      <th>MAT</th>\n",
       "      <th>SEX</th>\n",
       "      <th>PHENOTYPE</th>\n",
       "      <th>rs12565286_C</th>\n",
       "      <th>rs12082473_A</th>\n",
       "      <th>rs3094315_G</th>\n",
       "      <th>rs2286139_T</th>\n",
       "      <th>...</th>\n",
       "      <th>rs5770820_A</th>\n",
       "      <th>rs9628187_T</th>\n",
       "      <th>rs6010063_A</th>\n",
       "      <th>rs715586_T</th>\n",
       "      <th>rs8137951_A</th>\n",
       "      <th>rs3810648_G</th>\n",
       "      <th>rs3865766_C</th>\n",
       "      <th>rs2238837_C</th>\n",
       "      <th>rs34726907_T</th>\n",
       "      <th>rs28729663_A</th>\n",
       "    </tr>\n",
       "  </thead>\n",
       "  <tbody>\n",
       "    <tr>\n",
       "      <th>0</th>\n",
       "      <td>NA06984</td>\n",
       "      <td>NA06984</td>\n",
       "      <td>0</td>\n",
       "      <td>0</td>\n",
       "      <td>0</td>\n",
       "      <td>-9</td>\n",
       "      <td>0</td>\n",
       "      <td>0</td>\n",
       "      <td>0</td>\n",
       "      <td>2</td>\n",
       "      <td>...</td>\n",
       "      <td>0</td>\n",
       "      <td>0</td>\n",
       "      <td>2</td>\n",
       "      <td>0</td>\n",
       "      <td>0</td>\n",
       "      <td>0</td>\n",
       "      <td>2</td>\n",
       "      <td>0</td>\n",
       "      <td>0</td>\n",
       "      <td>0</td>\n",
       "    </tr>\n",
       "    <tr>\n",
       "      <th>1</th>\n",
       "      <td>NA06985</td>\n",
       "      <td>NA06985</td>\n",
       "      <td>0</td>\n",
       "      <td>0</td>\n",
       "      <td>0</td>\n",
       "      <td>-9</td>\n",
       "      <td>0</td>\n",
       "      <td>0</td>\n",
       "      <td>0</td>\n",
       "      <td>2</td>\n",
       "      <td>...</td>\n",
       "      <td>1</td>\n",
       "      <td>0</td>\n",
       "      <td>0</td>\n",
       "      <td>0</td>\n",
       "      <td>2</td>\n",
       "      <td>1</td>\n",
       "      <td>0</td>\n",
       "      <td>1</td>\n",
       "      <td>1</td>\n",
       "      <td>1</td>\n",
       "    </tr>\n",
       "    <tr>\n",
       "      <th>2</th>\n",
       "      <td>NA06986</td>\n",
       "      <td>NA06986</td>\n",
       "      <td>0</td>\n",
       "      <td>0</td>\n",
       "      <td>0</td>\n",
       "      <td>-9</td>\n",
       "      <td>0</td>\n",
       "      <td>0</td>\n",
       "      <td>0</td>\n",
       "      <td>2</td>\n",
       "      <td>...</td>\n",
       "      <td>0</td>\n",
       "      <td>1</td>\n",
       "      <td>1</td>\n",
       "      <td>0</td>\n",
       "      <td>1</td>\n",
       "      <td>0</td>\n",
       "      <td>2</td>\n",
       "      <td>0</td>\n",
       "      <td>0</td>\n",
       "      <td>0</td>\n",
       "    </tr>\n",
       "  </tbody>\n",
       "</table>\n",
       "<p>3 rows × 857130 columns</p>\n",
       "</div>"
      ],
      "text/plain": [
       "       FID      IID  PAT  MAT  SEX  PHENOTYPE  rs12565286_C  rs12082473_A  \\\n",
       "0  NA06984  NA06984    0    0    0         -9             0             0   \n",
       "1  NA06985  NA06985    0    0    0         -9             0             0   \n",
       "2  NA06986  NA06986    0    0    0         -9             0             0   \n",
       "\n",
       "   rs3094315_G  rs2286139_T      ...       rs5770820_A  rs9628187_T  \\\n",
       "0            0            2      ...                 0            0   \n",
       "1            0            2      ...                 1            0   \n",
       "2            0            2      ...                 0            1   \n",
       "\n",
       "   rs6010063_A  rs715586_T  rs8137951_A  rs3810648_G  rs3865766_C  \\\n",
       "0            2           0            0            0            2   \n",
       "1            0           0            2            1            0   \n",
       "2            1           0            1            0            2   \n",
       "\n",
       "   rs2238837_C  rs34726907_T  rs28729663_A  \n",
       "0            0             0             0  \n",
       "1            1             1             1  \n",
       "2            0             0             0  \n",
       "\n",
       "[3 rows x 857130 columns]"
      ]
     },
     "execution_count": 4,
     "metadata": {},
     "output_type": "execute_result"
    }
   ],
   "source": [
    "raw_file.head(3)"
   ]
  },
  {
   "cell_type": "code",
   "execution_count": 3,
   "metadata": {
    "collapsed": false
   },
   "outputs": [],
   "source": [
    "raw_file=raw_file.drop(raw_file.columns[[0,1,2,3,4,5]],axis=1)\n",
    "#print(raw_file.head(3))"
   ]
  },
  {
   "cell_type": "code",
   "execution_count": 4,
   "metadata": {
    "collapsed": false
   },
   "outputs": [
    {
     "data": {
      "text/plain": [
       "857124"
      ]
     },
     "execution_count": 4,
     "metadata": {},
     "output_type": "execute_result"
    }
   ],
   "source": [
    "snps=list(raw_file.columns.values)\n",
    "len(snps)"
   ]
  },
  {
   "cell_type": "code",
   "execution_count": 5,
   "metadata": {
    "collapsed": true
   },
   "outputs": [],
   "source": [
    "pops=pd.read_csv('C://Users//bhuiy//Desktop//pop_names', sep=\" \",nrows=268)\n",
    "pops=pops.drop('IID',axis=1)"
   ]
  },
  {
   "cell_type": "code",
   "execution_count": 12,
   "metadata": {
    "collapsed": false
   },
   "outputs": [],
   "source": [
    "y = np.array(pops['pop'])\n",
    "#converting the covariates into a matrix\n",
    "X_train, X_test, ytrain, ytest = train_test_split(raw_file,y,test_size=0.33)\n",
    "X = raw_file.as_matrix(columns=None)"
   ]
  },
  {
   "cell_type": "code",
   "execution_count": 21,
   "metadata": {
    "collapsed": false
   },
   "outputs": [
    {
     "data": {
      "text/plain": [
       "0.9662921348314607"
      ]
     },
     "execution_count": 21,
     "metadata": {},
     "output_type": "execute_result"
    }
   ],
   "source": [
    "linear_svc.score(X_test,ytest)"
   ]
  },
  {
   "cell_type": "code",
   "execution_count": 17,
   "metadata": {
    "collapsed": false
   },
   "outputs": [],
   "source": [
    "##support vector machine \n",
    "linear_svc= svm.SVC(kernel='linear',C=1).fit(X_train,ytrain)\n",
    "rbf_svc = svm.SVC(kernel='rbf', gamma=0.7, C=1).fit(X_train, ytrain)"
   ]
  },
  {
   "cell_type": "code",
   "execution_count": 34,
   "metadata": {
    "collapsed": false
   },
   "outputs": [
    {
     "data": {
      "text/plain": [
       "array([[ 0.,  0.,  1., ...,  1.,  0.,  0.],\n",
       "       [ 0.,  1.,  2., ...,  1.,  1.,  1.],\n",
       "       [ 0.,  1.,  1., ...,  0.,  0.,  0.],\n",
       "       ..., \n",
       "       [ 0.,  0.,  2., ...,  1.,  1.,  0.],\n",
       "       [ 0.,  0.,  2., ...,  1.,  1.,  1.],\n",
       "       [ 0.,  0.,  1., ...,  2.,  2.,  1.]])"
      ]
     },
     "execution_count": 34,
     "metadata": {},
     "output_type": "execute_result"
    }
   ],
   "source": [
    "linear_svc.support_vectors_"
   ]
  },
  {
   "cell_type": "code",
   "execution_count": 35,
   "metadata": {
    "collapsed": false
   },
   "outputs": [
    {
     "data": {
      "text/plain": [
       "array([[  1.06038996e-06,   3.97082218e-06,   9.40335169e-06, ...,\n",
       "          3.29136032e-06,  -5.91091361e-06,  -1.08079026e-06],\n",
       "       [  8.42969012e-06,  -1.07030166e-05,  -2.01917056e-05, ...,\n",
       "         -7.34713942e-06,  -2.90160638e-07,   1.23292473e-05],\n",
       "       [  8.17787313e-07,  -4.68032562e-06,  -1.07002080e-05, ...,\n",
       "         -3.64552736e-06,  -4.47361565e-06,  -1.80207585e-06]])"
      ]
     },
     "execution_count": 35,
     "metadata": {},
     "output_type": "execute_result"
    }
   ],
   "source": [
    "weights = np.array(linear_svc.coef_)\n",
    "weights"
   ]
  },
  {
   "cell_type": "code",
   "execution_count": 37,
   "metadata": {
    "collapsed": false
   },
   "outputs": [],
   "source": [
    "weights_model0 = np.array(weights[0])\n",
    "weights_model1 = np.array(weights[1])\n",
    "weights_model2 = np.array(weights[2])\n",
    "weights_model0 = np.abs(weights_model0)\n",
    "weights_model1 = np.abs(weights_model1)\n",
    "weights_model2 = np.abs(weights_model2)"
   ]
  },
  {
   "cell_type": "code",
   "execution_count": 39,
   "metadata": {
    "collapsed": false
   },
   "outputs": [
    {
     "data": {
      "text/plain": [
       "array([  1.06038996e-06,   3.97082218e-06,   9.40335169e-06, ...,\n",
       "         3.29136032e-06,   5.91091361e-06,   1.08079026e-06])"
      ]
     },
     "execution_count": 39,
     "metadata": {},
     "output_type": "execute_result"
    }
   ],
   "source": [
    "weights_model0"
   ]
  },
  {
   "cell_type": "code",
   "execution_count": 40,
   "metadata": {
    "collapsed": false
   },
   "outputs": [
    {
     "data": {
      "text/plain": [
       "array([  8.42969012e-06,   1.07030166e-05,   2.01917056e-05, ...,\n",
       "         7.34713942e-06,   2.90160638e-07,   1.23292473e-05])"
      ]
     },
     "execution_count": 40,
     "metadata": {},
     "output_type": "execute_result"
    }
   ],
   "source": [
    "weights_model1 \n"
   ]
  },
  {
   "cell_type": "code",
   "execution_count": 41,
   "metadata": {
    "collapsed": false
   },
   "outputs": [
    {
     "data": {
      "text/plain": [
       "array([  8.17787313e-07,   4.68032562e-06,   1.07002080e-05, ...,\n",
       "         3.64552736e-06,   4.47361565e-06,   1.80207585e-06])"
      ]
     },
     "execution_count": 41,
     "metadata": {},
     "output_type": "execute_result"
    }
   ],
   "source": [
    "weights_model2 "
   ]
  },
  {
   "cell_type": "code",
   "execution_count": 97,
   "metadata": {
    "collapsed": false
   },
   "outputs": [
    {
     "name": "stdout",
     "output_type": "stream",
     "text": [
      "['YRI' 'YRI' 'CEU' 'YRI' 'CEU' 'ASW' 'YRI' 'CEU' 'ASW' 'CEU' 'CEU' 'YRI'\n",
      " 'CEU' 'YRI' 'YRI' 'YRI' 'YRI' 'CEU' 'YRI' 'YRI' 'YRI' 'YRI' 'CEU' 'YRI'\n",
      " 'YRI' 'YRI' 'YRI' 'YRI' 'CEU' 'ASW' 'YRI' 'YRI' 'YRI' 'YRI' 'YRI' 'CEU'\n",
      " 'YRI' 'YRI' 'CEU' 'CEU' 'YRI' 'YRI' 'YRI' 'CEU' 'YRI' 'ASW' 'YRI' 'YRI'\n",
      " 'ASW' 'ASW' 'ASW' 'YRI' 'YRI' 'ASW' 'YRI' 'YRI' 'YRI' 'ASW' 'ASW' 'ASW'\n",
      " 'YRI' 'YRI' 'ASW' 'CEU' 'CEU' 'CEU' 'CEU' 'CEU' 'CEU' 'YRI' 'CEU' 'ASW'\n",
      " 'CEU' 'CEU' 'YRI' 'CEU' 'YRI' 'CEU' 'YRI' 'CEU' 'ASW' 'YRI' 'YRI' 'CEU'\n",
      " 'ASW' 'YRI' 'ASW' 'YRI' 'YRI']\n"
     ]
    }
   ],
   "source": [
    "y_pred = classifier.fit(X_train, ytrain).predict(X_test)\n",
    "print(y_pred)"
   ]
  },
  {
   "cell_type": "code",
   "execution_count": 106,
   "metadata": {
    "collapsed": false
   },
   "outputs": [
    {
     "name": "stdout",
     "output_type": "stream",
     "text": [
      "0.988805970149\n",
      "[[16  0  3]\n",
      " [ 0 26  0]\n",
      " [ 0  0 44]]\n"
     ]
    }
   ],
   "source": [
    "#mean accuracy \n",
    "print (linear_svc.score(X,y))\n",
    "# Compute confusion matrix\n",
    "cnf_matrix = confusion_matrix(ytest, y_pred)\n",
    "print (cnf_matrix)"
   ]
  },
  {
   "cell_type": "code",
   "execution_count": 95,
   "metadata": {
    "collapsed": false
   },
   "outputs": [
    {
     "name": "stdout",
     "output_type": "stream",
     "text": [
      "             precision    recall  f1-score   support\n",
      "\n",
      "        ASW       1.00      0.84      0.91        19\n",
      "        CEU       1.00      1.00      1.00        26\n",
      "        YRI       0.94      1.00      0.97        44\n",
      "\n",
      "avg / total       0.97      0.97      0.97        89\n",
      "\n"
     ]
    }
   ],
   "source": [
    "print(metrics.classification_report(ytest, y_pred))\n"
   ]
  },
  {
   "cell_type": "code",
   "execution_count": 125,
   "metadata": {
    "collapsed": false
   },
   "outputs": [],
   "source": [
    "model=SelectFromModel(linear_svc,prefit=True)\n",
    "new_X=model.transform(X) "
   ]
  }
 ],
 "metadata": {
  "anaconda-cloud": {},
  "kernelspec": {
   "display_name": "Python [conda root]",
   "language": "python",
   "name": "conda-root-py"
  },
  "language_info": {
   "codemirror_mode": {
    "name": "ipython",
    "version": 3
   },
   "file_extension": ".py",
   "mimetype": "text/x-python",
   "name": "python",
   "nbconvert_exporter": "python",
   "pygments_lexer": "ipython3",
   "version": "3.5.2"
  }
 },
 "nbformat": 4,
 "nbformat_minor": 1
}
